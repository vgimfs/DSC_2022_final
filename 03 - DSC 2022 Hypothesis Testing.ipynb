{
 "cells": [
  {
   "cell_type": "markdown",
   "metadata": {},
   "source": [
    "# Section 3. Hypothesis Testing"
   ]
  },
  {
   "cell_type": "markdown",
   "metadata": {},
   "source": [
    "In this section, we will focus on how to use statistical methods to test out hypothses that we prosposed. We will give "
   ]
  },
  {
   "cell_type": "markdown",
   "metadata": {},
   "source": [
    "### CONTENTS\n",
    "\n",
    "* <a href='02- DSC 2022 Exploratory Data Analysis.ipynb#top'>**Section 2. Exploratory Data Analysis**</a> \n",
    "* <a href='03 - DSC 2022 Hypothesis testing.ipynb#top'>**Section 3. Hypothesis Testing**</a> \n",
    "  * [1. T-test](#t)\n",
    "  * [2. ANOVA](#anova)\n",
    "* <a href='04- DSC 2022 Feature Engineering .ipynb#top'>**Section 4. Feature Engineering**</a> "
   ]
  },
  {
   "cell_type": "code",
   "execution_count": 1,
   "metadata": {},
   "outputs": [],
   "source": [
    "import pandas as pd\n",
    "import numpy as np\n",
    "import matplotlib.pyplot as plt\n",
    "import seaborn as sns"
   ]
  },
  {
   "cell_type": "code",
   "execution_count": 2,
   "metadata": {},
   "outputs": [
    {
     "data": {
      "text/html": [
       "<div>\n",
       "<style scoped>\n",
       "    .dataframe tbody tr th:only-of-type {\n",
       "        vertical-align: middle;\n",
       "    }\n",
       "\n",
       "    .dataframe tbody tr th {\n",
       "        vertical-align: top;\n",
       "    }\n",
       "\n",
       "    .dataframe thead th {\n",
       "        text-align: right;\n",
       "    }\n",
       "</style>\n",
       "<table border=\"1\" class=\"dataframe\">\n",
       "  <thead>\n",
       "    <tr style=\"text-align: right;\">\n",
       "      <th></th>\n",
       "      <th>offeringPricingDate</th>\n",
       "      <th>offeringType</th>\n",
       "      <th>offeringSector</th>\n",
       "      <th>offeringSubSector</th>\n",
       "      <th>offeringDiscountToLastTrade</th>\n",
       "      <th>offeringPrice</th>\n",
       "      <th>issuerCusip</th>\n",
       "      <th>issuerName</th>\n",
       "      <th>pre15_Price_Normalized</th>\n",
       "      <th>pre14_Price_Normalized</th>\n",
       "      <th>...</th>\n",
       "      <th>pre1_Price_Normalized</th>\n",
       "      <th>underwriters</th>\n",
       "      <th>totalBookrunners</th>\n",
       "      <th>leftLeadFirmId</th>\n",
       "      <th>leftLeadFirmName</th>\n",
       "      <th>post1_Price_Normalized</th>\n",
       "      <th>post7_Price_Normalized</th>\n",
       "      <th>post30_Price_Normalized</th>\n",
       "      <th>post90_Price_Normalized</th>\n",
       "      <th>post180_Price_Normalized</th>\n",
       "    </tr>\n",
       "    <tr>\n",
       "      <th>offeringId</th>\n",
       "      <th></th>\n",
       "      <th></th>\n",
       "      <th></th>\n",
       "      <th></th>\n",
       "      <th></th>\n",
       "      <th></th>\n",
       "      <th></th>\n",
       "      <th></th>\n",
       "      <th></th>\n",
       "      <th></th>\n",
       "      <th></th>\n",
       "      <th></th>\n",
       "      <th></th>\n",
       "      <th></th>\n",
       "      <th></th>\n",
       "      <th></th>\n",
       "      <th></th>\n",
       "      <th></th>\n",
       "      <th></th>\n",
       "      <th></th>\n",
       "      <th></th>\n",
       "    </tr>\n",
       "  </thead>\n",
       "  <tbody>\n",
       "    <tr>\n",
       "      <th>b969a1c8-0a26-438a-81e6-5e95f3b30501</th>\n",
       "      <td>2003-10-02</td>\n",
       "      <td>IPO</td>\n",
       "      <td>Consumer Cyclical</td>\n",
       "      <td>Vehicles &amp; Parts</td>\n",
       "      <td>0.0</td>\n",
       "      <td>13.0</td>\n",
       "      <td>501889208</td>\n",
       "      <td>BharCap Acquisition Corp.</td>\n",
       "      <td>NaN</td>\n",
       "      <td>NaN</td>\n",
       "      <td>...</td>\n",
       "      <td>NaN</td>\n",
       "      <td>[{'firmId': '15af8b8d-c949-4fa0-b35e-a6482d3ca...</td>\n",
       "      <td>2</td>\n",
       "      <td>759ce574-3755-480b-8b83-c614f4568db1</td>\n",
       "      <td>Baird</td>\n",
       "      <td>-0.855769</td>\n",
       "      <td>-0.850000</td>\n",
       "      <td>-0.831635</td>\n",
       "      <td>-0.825481</td>\n",
       "      <td>-0.836538</td>\n",
       "    </tr>\n",
       "    <tr>\n",
       "      <th>1081394b-c9f2-4479-8dd2-528027ff1eea</th>\n",
       "      <td>2005-07-21</td>\n",
       "      <td>IPO</td>\n",
       "      <td>Communication Services</td>\n",
       "      <td>Telecom Services</td>\n",
       "      <td>0.0</td>\n",
       "      <td>13.0</td>\n",
       "      <td>209034107</td>\n",
       "      <td>GrandSouth Bancorporation</td>\n",
       "      <td>NaN</td>\n",
       "      <td>NaN</td>\n",
       "      <td>...</td>\n",
       "      <td>NaN</td>\n",
       "      <td>[{'firmId': 'dac135c0-9e99-4362-9762-7179a0023...</td>\n",
       "      <td>2</td>\n",
       "      <td>5eb63e75-8f95-464e-86fe-3222865c54ef</td>\n",
       "      <td>Credit Suisse</td>\n",
       "      <td>0.060769</td>\n",
       "      <td>0.136923</td>\n",
       "      <td>0.041538</td>\n",
       "      <td>-0.018462</td>\n",
       "      <td>-0.016923</td>\n",
       "    </tr>\n",
       "    <tr>\n",
       "      <th>714a166d-9eb0-4b3c-ab8e-7c0dc6f21ee0</th>\n",
       "      <td>2005-08-04</td>\n",
       "      <td>IPO</td>\n",
       "      <td>Communication Services</td>\n",
       "      <td>Internet Content &amp; Information</td>\n",
       "      <td>0.0</td>\n",
       "      <td>27.0</td>\n",
       "      <td>056752108</td>\n",
       "      <td>Brand Velocity Acquisition Corp</td>\n",
       "      <td>NaN</td>\n",
       "      <td>NaN</td>\n",
       "      <td>...</td>\n",
       "      <td>NaN</td>\n",
       "      <td>[{'firmId': 'a82a866c-d40e-453a-99e1-8acb44efb...</td>\n",
       "      <td>2</td>\n",
       "      <td>dac135c0-9e99-4362-9762-7179a0023c9e</td>\n",
       "      <td>Goldman Sachs &amp; Co.</td>\n",
       "      <td>-0.546148</td>\n",
       "      <td>-0.637407</td>\n",
       "      <td>-0.711852</td>\n",
       "      <td>-0.746296</td>\n",
       "      <td>-0.798111</td>\n",
       "    </tr>\n",
       "    <tr>\n",
       "      <th>43f06950-8d20-4cfc-b16d-237e0927e1e6</th>\n",
       "      <td>2005-11-10</td>\n",
       "      <td>IPO</td>\n",
       "      <td>Industrials</td>\n",
       "      <td>Consulting Services</td>\n",
       "      <td>0.0</td>\n",
       "      <td>16.0</td>\n",
       "      <td>G47567105</td>\n",
       "      <td>ProLung Inc.</td>\n",
       "      <td>NaN</td>\n",
       "      <td>NaN</td>\n",
       "      <td>...</td>\n",
       "      <td>NaN</td>\n",
       "      <td>[{'firmId': 'a82a866c-d40e-453a-99e1-8acb44efb...</td>\n",
       "      <td>2</td>\n",
       "      <td>cd9cd378-73b5-4cef-8666-ad2c5149ccd8</td>\n",
       "      <td>Goldman Sachs &amp; Co.</td>\n",
       "      <td>-0.699502</td>\n",
       "      <td>-0.697394</td>\n",
       "      <td>-0.682808</td>\n",
       "      <td>-0.566124</td>\n",
       "      <td>-0.512702</td>\n",
       "    </tr>\n",
       "    <tr>\n",
       "      <th>96a13598-121a-41c0-83b5-448843cd8709</th>\n",
       "      <td>2006-02-03</td>\n",
       "      <td>IPO</td>\n",
       "      <td>Energy</td>\n",
       "      <td>Oil &amp; Gas Midstream</td>\n",
       "      <td>0.0</td>\n",
       "      <td>21.0</td>\n",
       "      <td>29273V100</td>\n",
       "      <td>Golden Star Acquisition Corp</td>\n",
       "      <td>NaN</td>\n",
       "      <td>NaN</td>\n",
       "      <td>...</td>\n",
       "      <td>NaN</td>\n",
       "      <td>[{'firmId': '7d932034-3e85-46ab-97b4-b6e8e86ee...</td>\n",
       "      <td>3</td>\n",
       "      <td>8fdb6c2d-3b35-40d4-a886-0a3461b42d98</td>\n",
       "      <td>UBS Investment Bank</td>\n",
       "      <td>-0.730357</td>\n",
       "      <td>-0.738690</td>\n",
       "      <td>-0.740595</td>\n",
       "      <td>-0.703571</td>\n",
       "      <td>-0.688095</td>\n",
       "    </tr>\n",
       "  </tbody>\n",
       "</table>\n",
       "<p>5 rows × 32 columns</p>\n",
       "</div>"
      ],
      "text/plain": [
       "                                     offeringPricingDate offeringType  \\\n",
       "offeringId                                                              \n",
       "b969a1c8-0a26-438a-81e6-5e95f3b30501          2003-10-02          IPO   \n",
       "1081394b-c9f2-4479-8dd2-528027ff1eea          2005-07-21          IPO   \n",
       "714a166d-9eb0-4b3c-ab8e-7c0dc6f21ee0          2005-08-04          IPO   \n",
       "43f06950-8d20-4cfc-b16d-237e0927e1e6          2005-11-10          IPO   \n",
       "96a13598-121a-41c0-83b5-448843cd8709          2006-02-03          IPO   \n",
       "\n",
       "                                              offeringSector  \\\n",
       "offeringId                                                     \n",
       "b969a1c8-0a26-438a-81e6-5e95f3b30501       Consumer Cyclical   \n",
       "1081394b-c9f2-4479-8dd2-528027ff1eea  Communication Services   \n",
       "714a166d-9eb0-4b3c-ab8e-7c0dc6f21ee0  Communication Services   \n",
       "43f06950-8d20-4cfc-b16d-237e0927e1e6             Industrials   \n",
       "96a13598-121a-41c0-83b5-448843cd8709                  Energy   \n",
       "\n",
       "                                                   offeringSubSector  \\\n",
       "offeringId                                                             \n",
       "b969a1c8-0a26-438a-81e6-5e95f3b30501                Vehicles & Parts   \n",
       "1081394b-c9f2-4479-8dd2-528027ff1eea                Telecom Services   \n",
       "714a166d-9eb0-4b3c-ab8e-7c0dc6f21ee0  Internet Content & Information   \n",
       "43f06950-8d20-4cfc-b16d-237e0927e1e6             Consulting Services   \n",
       "96a13598-121a-41c0-83b5-448843cd8709             Oil & Gas Midstream   \n",
       "\n",
       "                                      offeringDiscountToLastTrade  \\\n",
       "offeringId                                                          \n",
       "b969a1c8-0a26-438a-81e6-5e95f3b30501                          0.0   \n",
       "1081394b-c9f2-4479-8dd2-528027ff1eea                          0.0   \n",
       "714a166d-9eb0-4b3c-ab8e-7c0dc6f21ee0                          0.0   \n",
       "43f06950-8d20-4cfc-b16d-237e0927e1e6                          0.0   \n",
       "96a13598-121a-41c0-83b5-448843cd8709                          0.0   \n",
       "\n",
       "                                      offeringPrice issuerCusip  \\\n",
       "offeringId                                                        \n",
       "b969a1c8-0a26-438a-81e6-5e95f3b30501           13.0   501889208   \n",
       "1081394b-c9f2-4479-8dd2-528027ff1eea           13.0   209034107   \n",
       "714a166d-9eb0-4b3c-ab8e-7c0dc6f21ee0           27.0   056752108   \n",
       "43f06950-8d20-4cfc-b16d-237e0927e1e6           16.0   G47567105   \n",
       "96a13598-121a-41c0-83b5-448843cd8709           21.0   29273V100   \n",
       "\n",
       "                                                           issuerName  \\\n",
       "offeringId                                                              \n",
       "b969a1c8-0a26-438a-81e6-5e95f3b30501        BharCap Acquisition Corp.   \n",
       "1081394b-c9f2-4479-8dd2-528027ff1eea        GrandSouth Bancorporation   \n",
       "714a166d-9eb0-4b3c-ab8e-7c0dc6f21ee0  Brand Velocity Acquisition Corp   \n",
       "43f06950-8d20-4cfc-b16d-237e0927e1e6                     ProLung Inc.   \n",
       "96a13598-121a-41c0-83b5-448843cd8709     Golden Star Acquisition Corp   \n",
       "\n",
       "                                      pre15_Price_Normalized  \\\n",
       "offeringId                                                     \n",
       "b969a1c8-0a26-438a-81e6-5e95f3b30501                     NaN   \n",
       "1081394b-c9f2-4479-8dd2-528027ff1eea                     NaN   \n",
       "714a166d-9eb0-4b3c-ab8e-7c0dc6f21ee0                     NaN   \n",
       "43f06950-8d20-4cfc-b16d-237e0927e1e6                     NaN   \n",
       "96a13598-121a-41c0-83b5-448843cd8709                     NaN   \n",
       "\n",
       "                                      pre14_Price_Normalized  ...  \\\n",
       "offeringId                                                    ...   \n",
       "b969a1c8-0a26-438a-81e6-5e95f3b30501                     NaN  ...   \n",
       "1081394b-c9f2-4479-8dd2-528027ff1eea                     NaN  ...   \n",
       "714a166d-9eb0-4b3c-ab8e-7c0dc6f21ee0                     NaN  ...   \n",
       "43f06950-8d20-4cfc-b16d-237e0927e1e6                     NaN  ...   \n",
       "96a13598-121a-41c0-83b5-448843cd8709                     NaN  ...   \n",
       "\n",
       "                                      pre1_Price_Normalized  \\\n",
       "offeringId                                                    \n",
       "b969a1c8-0a26-438a-81e6-5e95f3b30501                    NaN   \n",
       "1081394b-c9f2-4479-8dd2-528027ff1eea                    NaN   \n",
       "714a166d-9eb0-4b3c-ab8e-7c0dc6f21ee0                    NaN   \n",
       "43f06950-8d20-4cfc-b16d-237e0927e1e6                    NaN   \n",
       "96a13598-121a-41c0-83b5-448843cd8709                    NaN   \n",
       "\n",
       "                                                                           underwriters  \\\n",
       "offeringId                                                                                \n",
       "b969a1c8-0a26-438a-81e6-5e95f3b30501  [{'firmId': '15af8b8d-c949-4fa0-b35e-a6482d3ca...   \n",
       "1081394b-c9f2-4479-8dd2-528027ff1eea  [{'firmId': 'dac135c0-9e99-4362-9762-7179a0023...   \n",
       "714a166d-9eb0-4b3c-ab8e-7c0dc6f21ee0  [{'firmId': 'a82a866c-d40e-453a-99e1-8acb44efb...   \n",
       "43f06950-8d20-4cfc-b16d-237e0927e1e6  [{'firmId': 'a82a866c-d40e-453a-99e1-8acb44efb...   \n",
       "96a13598-121a-41c0-83b5-448843cd8709  [{'firmId': '7d932034-3e85-46ab-97b4-b6e8e86ee...   \n",
       "\n",
       "                                      totalBookrunners  \\\n",
       "offeringId                                               \n",
       "b969a1c8-0a26-438a-81e6-5e95f3b30501                 2   \n",
       "1081394b-c9f2-4479-8dd2-528027ff1eea                 2   \n",
       "714a166d-9eb0-4b3c-ab8e-7c0dc6f21ee0                 2   \n",
       "43f06950-8d20-4cfc-b16d-237e0927e1e6                 2   \n",
       "96a13598-121a-41c0-83b5-448843cd8709                 3   \n",
       "\n",
       "                                                            leftLeadFirmId  \\\n",
       "offeringId                                                                   \n",
       "b969a1c8-0a26-438a-81e6-5e95f3b30501  759ce574-3755-480b-8b83-c614f4568db1   \n",
       "1081394b-c9f2-4479-8dd2-528027ff1eea  5eb63e75-8f95-464e-86fe-3222865c54ef   \n",
       "714a166d-9eb0-4b3c-ab8e-7c0dc6f21ee0  dac135c0-9e99-4362-9762-7179a0023c9e   \n",
       "43f06950-8d20-4cfc-b16d-237e0927e1e6  cd9cd378-73b5-4cef-8666-ad2c5149ccd8   \n",
       "96a13598-121a-41c0-83b5-448843cd8709  8fdb6c2d-3b35-40d4-a886-0a3461b42d98   \n",
       "\n",
       "                                         leftLeadFirmName  \\\n",
       "offeringId                                                  \n",
       "b969a1c8-0a26-438a-81e6-5e95f3b30501                Baird   \n",
       "1081394b-c9f2-4479-8dd2-528027ff1eea        Credit Suisse   \n",
       "714a166d-9eb0-4b3c-ab8e-7c0dc6f21ee0  Goldman Sachs & Co.   \n",
       "43f06950-8d20-4cfc-b16d-237e0927e1e6  Goldman Sachs & Co.   \n",
       "96a13598-121a-41c0-83b5-448843cd8709  UBS Investment Bank   \n",
       "\n",
       "                                      post1_Price_Normalized  \\\n",
       "offeringId                                                     \n",
       "b969a1c8-0a26-438a-81e6-5e95f3b30501               -0.855769   \n",
       "1081394b-c9f2-4479-8dd2-528027ff1eea                0.060769   \n",
       "714a166d-9eb0-4b3c-ab8e-7c0dc6f21ee0               -0.546148   \n",
       "43f06950-8d20-4cfc-b16d-237e0927e1e6               -0.699502   \n",
       "96a13598-121a-41c0-83b5-448843cd8709               -0.730357   \n",
       "\n",
       "                                      post7_Price_Normalized  \\\n",
       "offeringId                                                     \n",
       "b969a1c8-0a26-438a-81e6-5e95f3b30501               -0.850000   \n",
       "1081394b-c9f2-4479-8dd2-528027ff1eea                0.136923   \n",
       "714a166d-9eb0-4b3c-ab8e-7c0dc6f21ee0               -0.637407   \n",
       "43f06950-8d20-4cfc-b16d-237e0927e1e6               -0.697394   \n",
       "96a13598-121a-41c0-83b5-448843cd8709               -0.738690   \n",
       "\n",
       "                                      post30_Price_Normalized  \\\n",
       "offeringId                                                      \n",
       "b969a1c8-0a26-438a-81e6-5e95f3b30501                -0.831635   \n",
       "1081394b-c9f2-4479-8dd2-528027ff1eea                 0.041538   \n",
       "714a166d-9eb0-4b3c-ab8e-7c0dc6f21ee0                -0.711852   \n",
       "43f06950-8d20-4cfc-b16d-237e0927e1e6                -0.682808   \n",
       "96a13598-121a-41c0-83b5-448843cd8709                -0.740595   \n",
       "\n",
       "                                      post90_Price_Normalized  \\\n",
       "offeringId                                                      \n",
       "b969a1c8-0a26-438a-81e6-5e95f3b30501                -0.825481   \n",
       "1081394b-c9f2-4479-8dd2-528027ff1eea                -0.018462   \n",
       "714a166d-9eb0-4b3c-ab8e-7c0dc6f21ee0                -0.746296   \n",
       "43f06950-8d20-4cfc-b16d-237e0927e1e6                -0.566124   \n",
       "96a13598-121a-41c0-83b5-448843cd8709                -0.703571   \n",
       "\n",
       "                                      post180_Price_Normalized  \n",
       "offeringId                                                      \n",
       "b969a1c8-0a26-438a-81e6-5e95f3b30501                 -0.836538  \n",
       "1081394b-c9f2-4479-8dd2-528027ff1eea                 -0.016923  \n",
       "714a166d-9eb0-4b3c-ab8e-7c0dc6f21ee0                 -0.798111  \n",
       "43f06950-8d20-4cfc-b16d-237e0927e1e6                 -0.512702  \n",
       "96a13598-121a-41c0-83b5-448843cd8709                 -0.688095  \n",
       "\n",
       "[5 rows x 32 columns]"
      ]
     },
     "execution_count": 2,
     "metadata": {},
     "output_type": "execute_result"
    }
   ],
   "source": [
    "cmg = pd.read_excel('cmg.xlsx' ,index_col = 'offeringId')\n",
    "cmg.head(5)"
   ]
  },
  {
   "cell_type": "markdown",
   "metadata": {},
   "source": [
    "<a id='t'></a>\n",
    "## 1. T-test"
   ]
  },
  {
   "cell_type": "markdown",
   "metadata": {},
   "source": [
    "For hypothesis testing  the first step is always to state clearly a null hypothesis and its alternative hypothesis. The rationale is that if we assumed that the null hypothesis is true, how likely we are to see the data we currently observe, the probability is called p-value. If such p-value is extremely small, then we have some confidence such that our initial null hypothesis is False. Or put it into a more statistical way, we reject the null hypothesis with xx confidendece. \n",
    "\n",
    "Hypothesis: if a deal was made at a discount, then the deal would likely to have worse performance in the future. "
   ]
  },
  {
   "cell_type": "markdown",
   "metadata": {},
   "source": [
    "The key assumption of a t-test is that under each one of the two levels, the data is noramlly distributed(Gaussian) . Be sure to always check the underlying assumptions before performing any analysis."
   ]
  },
  {
   "cell_type": "markdown",
   "metadata": {},
   "source": [
    "According to the boxplot, we observe that for both discount and no-discount group, the distribution of one-day performance is normally distributed. "
   ]
  },
  {
   "cell_type": "code",
   "execution_count": 3,
   "metadata": {},
   "outputs": [
    {
     "data": {
      "text/plain": [
       "<AxesSubplot:xlabel='discount', ylabel='post180_Price_Normalized'>"
      ]
     },
     "execution_count": 3,
     "metadata": {},
     "output_type": "execute_result"
    },
    {
     "data": {
      "image/png": "[encoded data removed]",
      "text/plain": [
       "<Figure size 432x288 with 1 Axes>"
      ]
     },
     "metadata": {
      "needs_background": "light"
     },
     "output_type": "display_data"
    }
   ],
   "source": [
    "cmg['discount'] = cmg['offeringDiscountToLastTrade']<0\n",
    "sns.boxplot(x=\"discount\", y=\"post180_Price_Normalized\", data=cmg,showfliers = False)"
   ]
  },
  {
   "cell_type": "code",
   "execution_count": 4,
   "metadata": {},
   "outputs": [
    {
     "data": {
      "text/plain": [
       "Ttest_indResult(statistic=-5.8045823240281385, pvalue=6.68457451665945e-09)"
      ]
     },
     "execution_count": 4,
     "metadata": {},
     "output_type": "execute_result"
    }
   ],
   "source": [
    "from scipy.stats import ttest_ind\n",
    "ttest_ind(cmg['post180_Price_Normalized'][cmg['discount'] == True],\n",
    "                cmg['post180_Price_Normalized'][cmg['discount'] == False])"
   ]
  },
  {
   "cell_type": "markdown",
   "metadata": {},
   "source": [
    "<a id='anova'></a>\n",
    "## 2. One Way - Analysis of Variance (ANOVA)"
   ]
  },
  {
   "cell_type": "markdown",
   "metadata": {},
   "source": [
    "What happens when we have more than two categories for our explanatory variable? Then a t-test would not be enough. In this part, we introduce one way analysis of varaince(one-way ANOVA)."
   ]
  },
  {
   "cell_type": "markdown",
   "metadata": {},
   "source": [
    "Prior to the hypothesis testing, let's agian first check if the assumption of ANOVA is satisfied. "
   ]
  },
  {
   "cell_type": "code",
   "execution_count": 5,
   "metadata": {},
   "outputs": [
    {
     "data": {
      "text/html": [
       "<div>\n",
       "<style scoped>\n",
       "    .dataframe tbody tr th:only-of-type {\n",
       "        vertical-align: middle;\n",
       "    }\n",
       "\n",
       "    .dataframe tbody tr th {\n",
       "        vertical-align: top;\n",
       "    }\n",
       "\n",
       "    .dataframe thead th {\n",
       "        text-align: right;\n",
       "    }\n",
       "</style>\n",
       "<table border=\"1\" class=\"dataframe\">\n",
       "  <thead>\n",
       "    <tr style=\"text-align: right;\">\n",
       "      <th></th>\n",
       "      <th>offeringSector</th>\n",
       "      <th>count</th>\n",
       "      <th>mean</th>\n",
       "      <th>median</th>\n",
       "      <th>var</th>\n",
       "    </tr>\n",
       "  </thead>\n",
       "  <tbody>\n",
       "    <tr>\n",
       "      <th>0</th>\n",
       "      <td>Basic Materials</td>\n",
       "      <td>236</td>\n",
       "      <td>0.397583</td>\n",
       "      <td>0.080492</td>\n",
       "      <td>4.542468</td>\n",
       "    </tr>\n",
       "    <tr>\n",
       "      <th>1</th>\n",
       "      <td>Communication Services</td>\n",
       "      <td>336</td>\n",
       "      <td>0.435917</td>\n",
       "      <td>0.034419</td>\n",
       "      <td>9.632329</td>\n",
       "    </tr>\n",
       "    <tr>\n",
       "      <th>2</th>\n",
       "      <td>Consumer Cyclical</td>\n",
       "      <td>688</td>\n",
       "      <td>0.245283</td>\n",
       "      <td>0.056183</td>\n",
       "      <td>1.386579</td>\n",
       "    </tr>\n",
       "    <tr>\n",
       "      <th>3</th>\n",
       "      <td>Consumer Defensive</td>\n",
       "      <td>282</td>\n",
       "      <td>0.520659</td>\n",
       "      <td>0.032268</td>\n",
       "      <td>19.129043</td>\n",
       "    </tr>\n",
       "    <tr>\n",
       "      <th>4</th>\n",
       "      <td>Energy</td>\n",
       "      <td>704</td>\n",
       "      <td>0.456278</td>\n",
       "      <td>0.017172</td>\n",
       "      <td>17.794481</td>\n",
       "    </tr>\n",
       "    <tr>\n",
       "      <th>5</th>\n",
       "      <td>Financial Services</td>\n",
       "      <td>1286</td>\n",
       "      <td>0.109743</td>\n",
       "      <td>0.007645</td>\n",
       "      <td>0.723020</td>\n",
       "    </tr>\n",
       "    <tr>\n",
       "      <th>6</th>\n",
       "      <td>Healthcare</td>\n",
       "      <td>2301</td>\n",
       "      <td>1.105219</td>\n",
       "      <td>0.038298</td>\n",
       "      <td>57.294823</td>\n",
       "    </tr>\n",
       "    <tr>\n",
       "      <th>7</th>\n",
       "      <td>Industrials</td>\n",
       "      <td>680</td>\n",
       "      <td>0.426065</td>\n",
       "      <td>0.050143</td>\n",
       "      <td>15.044274</td>\n",
       "    </tr>\n",
       "    <tr>\n",
       "      <th>8</th>\n",
       "      <td>Real Estate</td>\n",
       "      <td>788</td>\n",
       "      <td>0.066846</td>\n",
       "      <td>0.014408</td>\n",
       "      <td>0.663802</td>\n",
       "    </tr>\n",
       "    <tr>\n",
       "      <th>9</th>\n",
       "      <td>Technology</td>\n",
       "      <td>1037</td>\n",
       "      <td>0.242751</td>\n",
       "      <td>0.062857</td>\n",
       "      <td>1.558506</td>\n",
       "    </tr>\n",
       "    <tr>\n",
       "      <th>10</th>\n",
       "      <td>Utilities</td>\n",
       "      <td>151</td>\n",
       "      <td>0.022631</td>\n",
       "      <td>0.020448</td>\n",
       "      <td>0.138558</td>\n",
       "    </tr>\n",
       "  </tbody>\n",
       "</table>\n",
       "</div>"
      ],
      "text/plain": [
       "            offeringSector  count      mean    median        var\n",
       "0          Basic Materials    236  0.397583  0.080492   4.542468\n",
       "1   Communication Services    336  0.435917  0.034419   9.632329\n",
       "2        Consumer Cyclical    688  0.245283  0.056183   1.386579\n",
       "3       Consumer Defensive    282  0.520659  0.032268  19.129043\n",
       "4                   Energy    704  0.456278  0.017172  17.794481\n",
       "5       Financial Services   1286  0.109743  0.007645   0.723020\n",
       "6               Healthcare   2301  1.105219  0.038298  57.294823\n",
       "7              Industrials    680  0.426065  0.050143  15.044274\n",
       "8              Real Estate    788  0.066846  0.014408   0.663802\n",
       "9               Technology   1037  0.242751  0.062857   1.558506\n",
       "10               Utilities    151  0.022631  0.020448   0.138558"
      ]
     },
     "execution_count": 5,
     "metadata": {},
     "output_type": "execute_result"
    }
   ],
   "source": [
    "temp = cmg.groupby(by = 'offeringSector')['post180_Price_Normalized'].agg(['count', 'mean', 'median', 'var']).reset_index()\n",
    "temp"
   ]
  },
  {
   "cell_type": "code",
   "execution_count": 6,
   "metadata": {},
   "outputs": [
    {
     "data": {
      "text/plain": [
       "<AxesSubplot:xlabel='offeringSector', ylabel='post180_Price_Normalized'>"
      ]
     },
     "execution_count": 6,
     "metadata": {},
     "output_type": "execute_result"
    },
    {
     "data": {
      "image/png": "[encoded data removed]",
      "text/plain": [
       "<Figure size 1440x360 with 1 Axes>"
      ]
     },
     "metadata": {
      "needs_background": "light"
     },
     "output_type": "display_data"
    }
   ],
   "source": [
    "plt.figure(figsize = (20, 5))\n",
    "sns.boxplot(x = 'offeringSector', y = 'post180_Price_Normalized', data = cmg, showfliers = False)"
   ]
  },
  {
   "cell_type": "markdown",
   "metadata": {},
   "source": [
    "Since the p-value is extremely small(almost 0), which is clearly smaller than our preset cofidence level threshold(alpha = 0.05). Then we shall reject the null hypothesis and claim that sector matters. "
   ]
  },
  {
   "cell_type": "code",
   "execution_count": 7,
   "metadata": {},
   "outputs": [],
   "source": [
    "performanceBySector = cmg.filter(items = [\"offeringSector\",\"post180_Price_Normalized\"]).pivot(columns = \"offeringSector\", values = \"post180_Price_Normalized\")"
   ]
  },
  {
   "cell_type": "code",
   "execution_count": 8,
   "metadata": {},
   "outputs": [
    {
     "name": "stdout",
     "output_type": "stream",
     "text": [
      "F-Statistic=7.344, p=0.000\n"
     ]
    }
   ],
   "source": [
    "from scipy.stats import f_oneway\n",
    "F, p = f_oneway(\n",
    "                performanceBySector['Communication Services'].dropna(),\n",
    "                performanceBySector['Consumer Cyclical'].dropna(),\n",
    "                performanceBySector['Consumer Defensive'].dropna(), \n",
    "                performanceBySector['Energy'].dropna(), \n",
    "                performanceBySector['Financial Services'].dropna(),\n",
    "                performanceBySector['Healthcare'].dropna(),\n",
    "                performanceBySector['Industrials'].dropna(),\n",
    "                performanceBySector['Real Estate'].dropna(),\n",
    "                performanceBySector['Technology'].dropna(),\n",
    "                performanceBySector['Utilities'].dropna())\n",
    "print('F-Statistic=%.3f, p=%.3f' % (F, p))"
   ]
  },
  {
   "cell_type": "markdown",
   "metadata": {},
   "source": [
    "If you are intersted in more in-depth explanations, check out  \n",
    "https://www.stat.cmu.edu/~hseltman/309/Book/chapter7.pdf for one-way ANOVA\n",
    "https://www.stat.cmu.edu/~hseltman/309/Book/chapter11.pdf for two-way ANOVA."
   ]
  },
  {
   "cell_type": "code",
   "execution_count": null,
   "metadata": {},
   "outputs": [],
   "source": []
  }
 ],
 "metadata": {
  "interpreter": {
   "hash": "98590ff4fe04c8543246b2a01debd3de3c5ca9b666f43f1fa87d5110c692004c"
  },
  "kernelspec": {
   "display_name": "Python 3 (ipykernel)",
   "language": "python",
   "name": "python3"
  },
  "language_info": {
   "codemirror_mode": {
    "name": "ipython",
    "version": 3
   },
   "file_extension": ".py",
   "mimetype": "text/x-python",
   "name": "python",
   "nbconvert_exporter": "python",
   "pygments_lexer": "ipython3",
   "version": "3.9.7"
  }
 },
 "nbformat": 4,
 "nbformat_minor": 2
}

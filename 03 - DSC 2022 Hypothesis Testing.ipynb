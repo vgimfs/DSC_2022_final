{
 "cells": [
  {
   "cell_type": "markdown",
   "metadata": {},
   "source": [
    "# Section 3. Hypothesis Testing"
   ]
  },
  {
   "cell_type": "markdown",
   "metadata": {},
   "source": [
    "### CONTENTS\n",
    "\n",
    "* <a href='02- DSC 2022 Exploratory Data Analysis.ipynb#top'>**Section 2. Exploratory Data Analysis**</a> \n",
    "* <a href='03 - DSC 2022 Hypothesis testing.ipynb#top'>**Section 3. Hypothesis Testing**</a> \n",
    "  * [1. T-test](#t)\n",
    "  * [2. ANOVA](#anova)\n",
    "* <a href='04- DSC 2022 Feature Engineering .ipynb#top'>**Section 4. Feature Engineering**</a> "
   ]
  },
  {
   "cell_type": "markdown",
   "metadata": {},
   "source": [
    "Recall that in section 1, we listed out several hypothesis that we would like to test out. In this section, we will focus on how to use statistical methods to do so. \n",
    "\n",
    "For hypothesis testing  the first step is always to state clearly a null hypothesis and its alternative hypothesis. The rationale is that if we assumed that the null hypothesis is true, how likely we are to see the data we currently observe, the probability is called p-value. If such p-value is extremely small, then we have some confidence such that our initial null hypothesis is False. Or put it into a more statistical way, we reject the null hypothesis with xx confidendece. \n"
   ]
  },
  {
   "cell_type": "code",
   "execution_count": 2,
   "metadata": {},
   "outputs": [],
   "source": [
    "import pandas as pd\n",
    "import numpy as np\n",
    "import matplotlib.pyplot as plt\n",
    "import seaborn as sns"
   ]
  },
  {
   "cell_type": "code",
   "execution_count": 3,
   "metadata": {},
   "outputs": [
    {
     "data": {
      "text/html": [
       "<div>\n",
       "<style scoped>\n",
       "    .dataframe tbody tr th:only-of-type {\n",
       "        vertical-align: middle;\n",
       "    }\n",
       "\n",
       "    .dataframe tbody tr th {\n",
       "        vertical-align: top;\n",
       "    }\n",
       "\n",
       "    .dataframe thead th {\n",
       "        text-align: right;\n",
       "    }\n",
       "</style>\n",
       "<table border=\"1\" class=\"dataframe\">\n",
       "  <thead>\n",
       "    <tr style=\"text-align: right;\">\n",
       "      <th></th>\n",
       "      <th>offeringPricingDate</th>\n",
       "      <th>offeringsType</th>\n",
       "      <th>offeringsSector</th>\n",
       "      <th>offeringsSubSector</th>\n",
       "      <th>offeringsDiscountToLastTrade</th>\n",
       "      <th>filingDetailsOfferingPrice</th>\n",
       "      <th>issuerCusip</th>\n",
       "      <th>issuerName</th>\n",
       "      <th>-15SharePrice</th>\n",
       "      <th>-14SharePrice</th>\n",
       "      <th>...</th>\n",
       "      <th>-1SharePrice</th>\n",
       "      <th>underwriters</th>\n",
       "      <th>offeringTotalBookrunners</th>\n",
       "      <th>leftLeadFirmId</th>\n",
       "      <th>leftLeadFirmName</th>\n",
       "      <th>1SharePrice</th>\n",
       "      <th>7SharePrice</th>\n",
       "      <th>30SharePrice</th>\n",
       "      <th>90SharePrice</th>\n",
       "      <th>180SharePrice</th>\n",
       "    </tr>\n",
       "    <tr>\n",
       "      <th>offeringId</th>\n",
       "      <th></th>\n",
       "      <th></th>\n",
       "      <th></th>\n",
       "      <th></th>\n",
       "      <th></th>\n",
       "      <th></th>\n",
       "      <th></th>\n",
       "      <th></th>\n",
       "      <th></th>\n",
       "      <th></th>\n",
       "      <th></th>\n",
       "      <th></th>\n",
       "      <th></th>\n",
       "      <th></th>\n",
       "      <th></th>\n",
       "      <th></th>\n",
       "      <th></th>\n",
       "      <th></th>\n",
       "      <th></th>\n",
       "      <th></th>\n",
       "      <th></th>\n",
       "    </tr>\n",
       "  </thead>\n",
       "  <tbody>\n",
       "    <tr>\n",
       "      <th>b969a1c8-0a26-438a-81e6-5e95f3b30501</th>\n",
       "      <td>2003-10-02</td>\n",
       "      <td>IPO</td>\n",
       "      <td>Consumer Cyclical</td>\n",
       "      <td>Vehicles &amp; Parts</td>\n",
       "      <td>0.0</td>\n",
       "      <td>13.0</td>\n",
       "      <td>501889208</td>\n",
       "      <td>BharCap Acquisition Corp.</td>\n",
       "      <td>NaN</td>\n",
       "      <td>NaN</td>\n",
       "      <td>...</td>\n",
       "      <td>NaN</td>\n",
       "      <td>[{'firmId': '15af8b8d-c949-4fa0-b35e-a6482d3ca...</td>\n",
       "      <td>2</td>\n",
       "      <td>759ce574-3755-480b-8b83-c614f4568db1</td>\n",
       "      <td>Baird</td>\n",
       "      <td>1.875000</td>\n",
       "      <td>1.950000</td>\n",
       "      <td>2.188750</td>\n",
       "      <td>2.268750</td>\n",
       "      <td>2.125000</td>\n",
       "    </tr>\n",
       "    <tr>\n",
       "      <th>1081394b-c9f2-4479-8dd2-528027ff1eea</th>\n",
       "      <td>2005-07-21</td>\n",
       "      <td>IPO</td>\n",
       "      <td>Communication Services</td>\n",
       "      <td>Telecom Services</td>\n",
       "      <td>0.0</td>\n",
       "      <td>13.0</td>\n",
       "      <td>209034107</td>\n",
       "      <td>GrandSouth Bancorporation</td>\n",
       "      <td>NaN</td>\n",
       "      <td>NaN</td>\n",
       "      <td>...</td>\n",
       "      <td>NaN</td>\n",
       "      <td>[{'firmId': 'dac135c0-9e99-4362-9762-7179a0023...</td>\n",
       "      <td>2</td>\n",
       "      <td>5eb63e75-8f95-464e-86fe-3222865c54ef</td>\n",
       "      <td>Credit Suisse</td>\n",
       "      <td>13.790000</td>\n",
       "      <td>14.780000</td>\n",
       "      <td>13.540000</td>\n",
       "      <td>12.760000</td>\n",
       "      <td>12.780000</td>\n",
       "    </tr>\n",
       "    <tr>\n",
       "      <th>714a166d-9eb0-4b3c-ab8e-7c0dc6f21ee0</th>\n",
       "      <td>2005-08-04</td>\n",
       "      <td>IPO</td>\n",
       "      <td>Communication Services</td>\n",
       "      <td>Internet Content &amp; Information</td>\n",
       "      <td>0.0</td>\n",
       "      <td>27.0</td>\n",
       "      <td>056752108</td>\n",
       "      <td>Brand Velocity Acquisition Corp</td>\n",
       "      <td>NaN</td>\n",
       "      <td>NaN</td>\n",
       "      <td>...</td>\n",
       "      <td>NaN</td>\n",
       "      <td>[{'firmId': 'a82a866c-d40e-453a-99e1-8acb44efb...</td>\n",
       "      <td>2</td>\n",
       "      <td>dac135c0-9e99-4362-9762-7179a0023c9e</td>\n",
       "      <td>Goldman Sachs &amp; Co.</td>\n",
       "      <td>12.254000</td>\n",
       "      <td>9.790000</td>\n",
       "      <td>7.780000</td>\n",
       "      <td>6.850000</td>\n",
       "      <td>5.451000</td>\n",
       "    </tr>\n",
       "    <tr>\n",
       "      <th>43f06950-8d20-4cfc-b16d-237e0927e1e6</th>\n",
       "      <td>2005-11-10</td>\n",
       "      <td>IPO</td>\n",
       "      <td>Industrials</td>\n",
       "      <td>Consulting Services</td>\n",
       "      <td>0.0</td>\n",
       "      <td>16.0</td>\n",
       "      <td>G47567105</td>\n",
       "      <td>ProLung Inc.</td>\n",
       "      <td>NaN</td>\n",
       "      <td>NaN</td>\n",
       "      <td>...</td>\n",
       "      <td>NaN</td>\n",
       "      <td>[{'firmId': 'a82a866c-d40e-453a-99e1-8acb44efb...</td>\n",
       "      <td>2</td>\n",
       "      <td>cd9cd378-73b5-4cef-8666-ad2c5149ccd8</td>\n",
       "      <td>Goldman Sachs &amp; Co.</td>\n",
       "      <td>4.807962</td>\n",
       "      <td>4.841702</td>\n",
       "      <td>5.075071</td>\n",
       "      <td>6.942023</td>\n",
       "      <td>7.796772</td>\n",
       "    </tr>\n",
       "    <tr>\n",
       "      <th>96a13598-121a-41c0-83b5-448843cd8709</th>\n",
       "      <td>2006-02-03</td>\n",
       "      <td>IPO</td>\n",
       "      <td>Energy</td>\n",
       "      <td>Oil &amp; Gas Midstream</td>\n",
       "      <td>0.0</td>\n",
       "      <td>21.0</td>\n",
       "      <td>29273V100</td>\n",
       "      <td>Golden Star Acquisition Corp</td>\n",
       "      <td>NaN</td>\n",
       "      <td>NaN</td>\n",
       "      <td>...</td>\n",
       "      <td>NaN</td>\n",
       "      <td>[{'firmId': '7d932034-3e85-46ab-97b4-b6e8e86ee...</td>\n",
       "      <td>3</td>\n",
       "      <td>8fdb6c2d-3b35-40d4-a886-0a3461b42d98</td>\n",
       "      <td>UBS Investment Bank</td>\n",
       "      <td>5.662500</td>\n",
       "      <td>5.487500</td>\n",
       "      <td>5.447500</td>\n",
       "      <td>6.225000</td>\n",
       "      <td>6.550000</td>\n",
       "    </tr>\n",
       "  </tbody>\n",
       "</table>\n",
       "<p>5 rows × 32 columns</p>\n",
       "</div>"
      ],
      "text/plain": [
       "                                     offeringPricingDate offeringsType  \\\n",
       "offeringId                                                               \n",
       "b969a1c8-0a26-438a-81e6-5e95f3b30501          2003-10-02           IPO   \n",
       "1081394b-c9f2-4479-8dd2-528027ff1eea          2005-07-21           IPO   \n",
       "714a166d-9eb0-4b3c-ab8e-7c0dc6f21ee0          2005-08-04           IPO   \n",
       "43f06950-8d20-4cfc-b16d-237e0927e1e6          2005-11-10           IPO   \n",
       "96a13598-121a-41c0-83b5-448843cd8709          2006-02-03           IPO   \n",
       "\n",
       "                                             offeringsSector  \\\n",
       "offeringId                                                     \n",
       "b969a1c8-0a26-438a-81e6-5e95f3b30501       Consumer Cyclical   \n",
       "1081394b-c9f2-4479-8dd2-528027ff1eea  Communication Services   \n",
       "714a166d-9eb0-4b3c-ab8e-7c0dc6f21ee0  Communication Services   \n",
       "43f06950-8d20-4cfc-b16d-237e0927e1e6             Industrials   \n",
       "96a13598-121a-41c0-83b5-448843cd8709                  Energy   \n",
       "\n",
       "                                                  offeringsSubSector  \\\n",
       "offeringId                                                             \n",
       "b969a1c8-0a26-438a-81e6-5e95f3b30501                Vehicles & Parts   \n",
       "1081394b-c9f2-4479-8dd2-528027ff1eea                Telecom Services   \n",
       "714a166d-9eb0-4b3c-ab8e-7c0dc6f21ee0  Internet Content & Information   \n",
       "43f06950-8d20-4cfc-b16d-237e0927e1e6             Consulting Services   \n",
       "96a13598-121a-41c0-83b5-448843cd8709             Oil & Gas Midstream   \n",
       "\n",
       "                                      offeringsDiscountToLastTrade  \\\n",
       "offeringId                                                           \n",
       "b969a1c8-0a26-438a-81e6-5e95f3b30501                           0.0   \n",
       "1081394b-c9f2-4479-8dd2-528027ff1eea                           0.0   \n",
       "714a166d-9eb0-4b3c-ab8e-7c0dc6f21ee0                           0.0   \n",
       "43f06950-8d20-4cfc-b16d-237e0927e1e6                           0.0   \n",
       "96a13598-121a-41c0-83b5-448843cd8709                           0.0   \n",
       "\n",
       "                                      filingDetailsOfferingPrice issuerCusip  \\\n",
       "offeringId                                                                     \n",
       "b969a1c8-0a26-438a-81e6-5e95f3b30501                        13.0   501889208   \n",
       "1081394b-c9f2-4479-8dd2-528027ff1eea                        13.0   209034107   \n",
       "714a166d-9eb0-4b3c-ab8e-7c0dc6f21ee0                        27.0   056752108   \n",
       "43f06950-8d20-4cfc-b16d-237e0927e1e6                        16.0   G47567105   \n",
       "96a13598-121a-41c0-83b5-448843cd8709                        21.0   29273V100   \n",
       "\n",
       "                                                           issuerName  \\\n",
       "offeringId                                                              \n",
       "b969a1c8-0a26-438a-81e6-5e95f3b30501        BharCap Acquisition Corp.   \n",
       "1081394b-c9f2-4479-8dd2-528027ff1eea        GrandSouth Bancorporation   \n",
       "714a166d-9eb0-4b3c-ab8e-7c0dc6f21ee0  Brand Velocity Acquisition Corp   \n",
       "43f06950-8d20-4cfc-b16d-237e0927e1e6                     ProLung Inc.   \n",
       "96a13598-121a-41c0-83b5-448843cd8709     Golden Star Acquisition Corp   \n",
       "\n",
       "                                      -15SharePrice  -14SharePrice  ...  \\\n",
       "offeringId                                                          ...   \n",
       "b969a1c8-0a26-438a-81e6-5e95f3b30501            NaN            NaN  ...   \n",
       "1081394b-c9f2-4479-8dd2-528027ff1eea            NaN            NaN  ...   \n",
       "714a166d-9eb0-4b3c-ab8e-7c0dc6f21ee0            NaN            NaN  ...   \n",
       "43f06950-8d20-4cfc-b16d-237e0927e1e6            NaN            NaN  ...   \n",
       "96a13598-121a-41c0-83b5-448843cd8709            NaN            NaN  ...   \n",
       "\n",
       "                                      -1SharePrice  \\\n",
       "offeringId                                           \n",
       "b969a1c8-0a26-438a-81e6-5e95f3b30501           NaN   \n",
       "1081394b-c9f2-4479-8dd2-528027ff1eea           NaN   \n",
       "714a166d-9eb0-4b3c-ab8e-7c0dc6f21ee0           NaN   \n",
       "43f06950-8d20-4cfc-b16d-237e0927e1e6           NaN   \n",
       "96a13598-121a-41c0-83b5-448843cd8709           NaN   \n",
       "\n",
       "                                                                           underwriters  \\\n",
       "offeringId                                                                                \n",
       "b969a1c8-0a26-438a-81e6-5e95f3b30501  [{'firmId': '15af8b8d-c949-4fa0-b35e-a6482d3ca...   \n",
       "1081394b-c9f2-4479-8dd2-528027ff1eea  [{'firmId': 'dac135c0-9e99-4362-9762-7179a0023...   \n",
       "714a166d-9eb0-4b3c-ab8e-7c0dc6f21ee0  [{'firmId': 'a82a866c-d40e-453a-99e1-8acb44efb...   \n",
       "43f06950-8d20-4cfc-b16d-237e0927e1e6  [{'firmId': 'a82a866c-d40e-453a-99e1-8acb44efb...   \n",
       "96a13598-121a-41c0-83b5-448843cd8709  [{'firmId': '7d932034-3e85-46ab-97b4-b6e8e86ee...   \n",
       "\n",
       "                                      offeringTotalBookrunners  \\\n",
       "offeringId                                                       \n",
       "b969a1c8-0a26-438a-81e6-5e95f3b30501                         2   \n",
       "1081394b-c9f2-4479-8dd2-528027ff1eea                         2   \n",
       "714a166d-9eb0-4b3c-ab8e-7c0dc6f21ee0                         2   \n",
       "43f06950-8d20-4cfc-b16d-237e0927e1e6                         2   \n",
       "96a13598-121a-41c0-83b5-448843cd8709                         3   \n",
       "\n",
       "                                                            leftLeadFirmId  \\\n",
       "offeringId                                                                   \n",
       "b969a1c8-0a26-438a-81e6-5e95f3b30501  759ce574-3755-480b-8b83-c614f4568db1   \n",
       "1081394b-c9f2-4479-8dd2-528027ff1eea  5eb63e75-8f95-464e-86fe-3222865c54ef   \n",
       "714a166d-9eb0-4b3c-ab8e-7c0dc6f21ee0  dac135c0-9e99-4362-9762-7179a0023c9e   \n",
       "43f06950-8d20-4cfc-b16d-237e0927e1e6  cd9cd378-73b5-4cef-8666-ad2c5149ccd8   \n",
       "96a13598-121a-41c0-83b5-448843cd8709  8fdb6c2d-3b35-40d4-a886-0a3461b42d98   \n",
       "\n",
       "                                         leftLeadFirmName  1SharePrice  \\\n",
       "offeringId                                                               \n",
       "b969a1c8-0a26-438a-81e6-5e95f3b30501                Baird     1.875000   \n",
       "1081394b-c9f2-4479-8dd2-528027ff1eea        Credit Suisse    13.790000   \n",
       "714a166d-9eb0-4b3c-ab8e-7c0dc6f21ee0  Goldman Sachs & Co.    12.254000   \n",
       "43f06950-8d20-4cfc-b16d-237e0927e1e6  Goldman Sachs & Co.     4.807962   \n",
       "96a13598-121a-41c0-83b5-448843cd8709  UBS Investment Bank     5.662500   \n",
       "\n",
       "                                      7SharePrice  30SharePrice  90SharePrice  \\\n",
       "offeringId                                                                      \n",
       "b969a1c8-0a26-438a-81e6-5e95f3b30501     1.950000      2.188750      2.268750   \n",
       "1081394b-c9f2-4479-8dd2-528027ff1eea    14.780000     13.540000     12.760000   \n",
       "714a166d-9eb0-4b3c-ab8e-7c0dc6f21ee0     9.790000      7.780000      6.850000   \n",
       "43f06950-8d20-4cfc-b16d-237e0927e1e6     4.841702      5.075071      6.942023   \n",
       "96a13598-121a-41c0-83b5-448843cd8709     5.487500      5.447500      6.225000   \n",
       "\n",
       "                                      180SharePrice  \n",
       "offeringId                                           \n",
       "b969a1c8-0a26-438a-81e6-5e95f3b30501       2.125000  \n",
       "1081394b-c9f2-4479-8dd2-528027ff1eea      12.780000  \n",
       "714a166d-9eb0-4b3c-ab8e-7c0dc6f21ee0       5.451000  \n",
       "43f06950-8d20-4cfc-b16d-237e0927e1e6       7.796772  \n",
       "96a13598-121a-41c0-83b5-448843cd8709       6.550000  \n",
       "\n",
       "[5 rows x 32 columns]"
      ]
     },
     "execution_count": 3,
     "metadata": {},
     "output_type": "execute_result"
    }
   ],
   "source": [
    "cmg = pd.read_excel('cmg.xlsx' ,index_col = 'offeringId')\n",
    "cmg.head(5)"
   ]
  },
  {
   "cell_type": "markdown",
   "metadata": {},
   "source": [
    "<a id='t'></a>\n",
    "## 1. T-test\n",
    "\n",
    "Hypothesis: if a deal was made at a discount, then the deal would likely to have worse performance in the future. "
   ]
  },
  {
   "cell_type": "markdown",
   "metadata": {},
   "source": [
    "The key assumption of a t-test is that under each one of the two levels, the data is noramlly distributed(Gaussian) . Be sure to always check the underlying assumptions before performing any analysis."
   ]
  },
  {
   "cell_type": "markdown",
   "metadata": {},
   "source": [
    "According to the boxplot, we observe that for both discount and no-discount group, the distribution of one-day performance is normally distributed. "
   ]
  },
  {
   "cell_type": "code",
   "execution_count": 5,
   "metadata": {},
   "outputs": [
    {
     "data": {
      "text/plain": [
       "<AxesSubplot:xlabel='discount', ylabel='180SharePrice'>"
      ]
     },
     "execution_count": 5,
     "metadata": {},
     "output_type": "execute_result"
    },
    {
     "data": {
      "image/png": "[encoded data removed]",
      "text/plain": [
       "<Figure size 432x288 with 1 Axes>"
      ]
     },
     "metadata": {
      "needs_background": "light"
     },
     "output_type": "display_data"
    }
   ],
   "source": [
    "cmg['discount'] = cmg['offeringsDiscountToLastTrade']<0\n",
    "sns.boxplot(x=\"discount\", y=\"180SharePrice\", data=cmg,showfliers = False)"
   ]
  },
  {
   "cell_type": "markdown",
   "metadata": {},
   "source": [
    "<a id='anova'></a>\n",
    "## 2. One Way - Analysis of Variance (ANOVA)"
   ]
  },
  {
   "cell_type": "markdown",
   "metadata": {},
   "source": [
    "What happens when we have more than two categories for our explanatory variable? Then a t-test would not be enough. In this part, we introduce one way analysis of varaince(one-way ANOVA)."
   ]
  },
  {
   "cell_type": "markdown",
   "metadata": {},
   "source": [
    "Prior to the hypothesis testing, let's agian first check if the assumption of ANOVA is satisfied. "
   ]
  },
  {
   "cell_type": "code",
   "execution_count": 6,
   "metadata": {},
   "outputs": [
    {
     "data": {
      "text/html": [
       "<div>\n",
       "<style scoped>\n",
       "    .dataframe tbody tr th:only-of-type {\n",
       "        vertical-align: middle;\n",
       "    }\n",
       "\n",
       "    .dataframe tbody tr th {\n",
       "        vertical-align: top;\n",
       "    }\n",
       "\n",
       "    .dataframe thead th {\n",
       "        text-align: right;\n",
       "    }\n",
       "</style>\n",
       "<table border=\"1\" class=\"dataframe\">\n",
       "  <thead>\n",
       "    <tr style=\"text-align: right;\">\n",
       "      <th></th>\n",
       "      <th>offeringsSector</th>\n",
       "      <th>count</th>\n",
       "      <th>mean</th>\n",
       "      <th>median</th>\n",
       "      <th>var</th>\n",
       "    </tr>\n",
       "  </thead>\n",
       "  <tbody>\n",
       "    <tr>\n",
       "      <th>0</th>\n",
       "      <td>Basic Materials</td>\n",
       "      <td>236</td>\n",
       "      <td>26.706637</td>\n",
       "      <td>14.895</td>\n",
       "      <td>1691.767703</td>\n",
       "    </tr>\n",
       "    <tr>\n",
       "      <th>1</th>\n",
       "      <td>Communication Services</td>\n",
       "      <td>336</td>\n",
       "      <td>41.666802</td>\n",
       "      <td>16.430</td>\n",
       "      <td>16499.334016</td>\n",
       "    </tr>\n",
       "    <tr>\n",
       "      <th>2</th>\n",
       "      <td>Consumer Cyclical</td>\n",
       "      <td>688</td>\n",
       "      <td>33.631770</td>\n",
       "      <td>20.750</td>\n",
       "      <td>2343.978188</td>\n",
       "    </tr>\n",
       "    <tr>\n",
       "      <th>3</th>\n",
       "      <td>Consumer Defensive</td>\n",
       "      <td>282</td>\n",
       "      <td>28.367036</td>\n",
       "      <td>20.810</td>\n",
       "      <td>1165.029518</td>\n",
       "    </tr>\n",
       "    <tr>\n",
       "      <th>4</th>\n",
       "      <td>Energy</td>\n",
       "      <td>704</td>\n",
       "      <td>35.057314</td>\n",
       "      <td>24.130</td>\n",
       "      <td>5568.920524</td>\n",
       "    </tr>\n",
       "    <tr>\n",
       "      <th>5</th>\n",
       "      <td>Financial Services</td>\n",
       "      <td>1286</td>\n",
       "      <td>23.845112</td>\n",
       "      <td>12.270</td>\n",
       "      <td>1426.662525</td>\n",
       "    </tr>\n",
       "    <tr>\n",
       "      <th>6</th>\n",
       "      <td>Healthcare</td>\n",
       "      <td>2301</td>\n",
       "      <td>32.309370</td>\n",
       "      <td>15.020</td>\n",
       "      <td>7739.495303</td>\n",
       "    </tr>\n",
       "    <tr>\n",
       "      <th>7</th>\n",
       "      <td>Industrials</td>\n",
       "      <td>680</td>\n",
       "      <td>29.927585</td>\n",
       "      <td>17.765</td>\n",
       "      <td>5496.606006</td>\n",
       "    </tr>\n",
       "    <tr>\n",
       "      <th>8</th>\n",
       "      <td>Real Estate</td>\n",
       "      <td>788</td>\n",
       "      <td>33.031774</td>\n",
       "      <td>19.765</td>\n",
       "      <td>2341.923000</td>\n",
       "    </tr>\n",
       "    <tr>\n",
       "      <th>9</th>\n",
       "      <td>Technology</td>\n",
       "      <td>1037</td>\n",
       "      <td>34.721705</td>\n",
       "      <td>19.690</td>\n",
       "      <td>5555.365850</td>\n",
       "    </tr>\n",
       "    <tr>\n",
       "      <th>10</th>\n",
       "      <td>Utilities</td>\n",
       "      <td>151</td>\n",
       "      <td>36.458987</td>\n",
       "      <td>27.530</td>\n",
       "      <td>619.905306</td>\n",
       "    </tr>\n",
       "  </tbody>\n",
       "</table>\n",
       "</div>"
      ],
      "text/plain": [
       "           offeringsSector  count       mean  median           var\n",
       "0          Basic Materials    236  26.706637  14.895   1691.767703\n",
       "1   Communication Services    336  41.666802  16.430  16499.334016\n",
       "2        Consumer Cyclical    688  33.631770  20.750   2343.978188\n",
       "3       Consumer Defensive    282  28.367036  20.810   1165.029518\n",
       "4                   Energy    704  35.057314  24.130   5568.920524\n",
       "5       Financial Services   1286  23.845112  12.270   1426.662525\n",
       "6               Healthcare   2301  32.309370  15.020   7739.495303\n",
       "7              Industrials    680  29.927585  17.765   5496.606006\n",
       "8              Real Estate    788  33.031774  19.765   2341.923000\n",
       "9               Technology   1037  34.721705  19.690   5555.365850\n",
       "10               Utilities    151  36.458987  27.530    619.905306"
      ]
     },
     "execution_count": 6,
     "metadata": {},
     "output_type": "execute_result"
    }
   ],
   "source": [
    "temp = cmg.groupby(by = 'offeringsSector')['180SharePrice'].agg(['count', 'mean', 'median', 'var']).reset_index()\n",
    "temp"
   ]
  },
  {
   "cell_type": "code",
   "execution_count": 8,
   "metadata": {},
   "outputs": [
    {
     "data": {
      "text/plain": [
       "<AxesSubplot:xlabel='offeringsSector', ylabel='180SharePrice'>"
      ]
     },
     "execution_count": 8,
     "metadata": {},
     "output_type": "execute_result"
    },
    {
     "data": {
      "image/png": "[encoded data removed]",
      "text/plain": [
       "<Figure size 1440x360 with 1 Axes>"
      ]
     },
     "metadata": {
      "needs_background": "light"
     },
     "output_type": "display_data"
    }
   ],
   "source": [
    "plt.figure(figsize = (20, 5))\n",
    "sns.boxplot(x = 'offeringsSector', y = '180SharePrice', data = cmg, showfliers = False)"
   ]
  },
  {
   "cell_type": "markdown",
   "metadata": {},
   "source": [
    "Since the p-value is extremely small(almost 0), which is clearly smaller than our preset cofidence level threshold(alpha = 0.05). Then we shall reject the null hypothesis and claim that sector matters. "
   ]
  },
  {
   "cell_type": "code",
   "execution_count": 10,
   "metadata": {},
   "outputs": [],
   "source": [
    "from scipy.stats import f_oneway\n",
    "performanceBySector = cmg.filter(items = [\"offeringsSector\",\"180SharePrice\"]).pivot(columns = \"offeringsSector\", values = \"180SharePrice\")"
   ]
  },
  {
   "cell_type": "code",
   "execution_count": 11,
   "metadata": {},
   "outputs": [
    {
     "name": "stdout",
     "output_type": "stream",
     "text": [
      "F-Statistic=3.097, p=0.001\n"
     ]
    }
   ],
   "source": [
    "F, p = f_oneway(\n",
    "                performanceBySector['Communication Services'].dropna(),\n",
    "                performanceBySector['Consumer Cyclical'].dropna(),\n",
    "                performanceBySector['Consumer Defensive'].dropna(), \n",
    "                performanceBySector['Energy'].dropna(), \n",
    "                performanceBySector['Financial Services'].dropna(),\n",
    "                performanceBySector['Healthcare'].dropna(),\n",
    "                performanceBySector['Industrials'].dropna(),\n",
    "                performanceBySector['Real Estate'].dropna(),\n",
    "                performanceBySector['Technology'].dropna(),\n",
    "                performanceBySector['Utilities'].dropna())\n",
    "print('F-Statistic=%.3f, p=%.3f' % (F, p))"
   ]
  },
  {
   "cell_type": "markdown",
   "metadata": {},
   "source": [
    "If you are intersted in more in-depth explanations, check out  \n",
    "https://www.stat.cmu.edu/~hseltman/309/Book/chapter7.pdf for one-way ANOVA\n",
    "https://www.stat.cmu.edu/~hseltman/309/Book/chapter11.pdf for two-way ANOVA."
   ]
  },
  {
   "cell_type": "code",
   "execution_count": null,
   "metadata": {},
   "outputs": [],
   "source": []
  }
 ],
 "metadata": {
  "interpreter": {
   "hash": "98590ff4fe04c8543246b2a01debd3de3c5ca9b666f43f1fa87d5110c692004c"
  },
  "kernelspec": {
   "display_name": "Python 3 (ipykernel)",
   "language": "python",
   "name": "python3"
  },
  "language_info": {
   "codemirror_mode": {
    "name": "ipython",
    "version": 3
   },
   "file_extension": ".py",
   "mimetype": "text/x-python",
   "name": "python",
   "nbconvert_exporter": "python",
   "pygments_lexer": "ipython3",
   "version": "3.9.7"
  }
 },
 "nbformat": 4,
 "nbformat_minor": 2
}

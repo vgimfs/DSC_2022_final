{
 "cells": [
  {
   "cell_type": "markdown",
   "metadata": {},
   "source": [
    "# Section 0. Welcome and Logistics "
   ]
  },
  {
   "cell_type": "markdown",
   "metadata": {},
   "source": [
    "Hello, welcome to the 6th Data Science Competition held by IMFS! By holding this competition, We hope to continue encouraging crews to get their hands on data science and cultivate new ways of thinking about problems. This year, we desinged 2 tracks: the **data literacy track** and the **data modeling** track to accomodate participants with various experience level in data science. Regardless of the level at which you start with, we will offer you a great learning experience by guiding you through tackling an exciting business problem step by step. Your adventure starts here..."
   ]
  },
  {
   "cell_type": "markdown",
   "metadata": {},
   "source": [
    "## Here is the outline of the contents that make up this competition:\n",
    "\n",
    "All the competition material will be organized in jupyter notebooks. Here's a sneak peek of what we will go through...\n",
    "\n",
    "\n",
    "* <a href='00- DSC 2022 Problem Definition.ipynb#top'>**Section 0. Welcome and Logistics**</a> \n",
    "* <a href='01- DSC 2022 Problem Definition.ipynb#top'>**Section 1. Problem Definition**</a> \n",
    "* <a href='02- DSC 2022 Exploratory Data Analysis.ipynb#top'>**Section 2. Exploratory Data Analysis**</a> \n",
    "* <a href='03 - DSC 2022 Hypothesis testing.ipynb#top'>**Section 3. Hypothesis Testing**</a> \n",
    "* <a href='04- DSC 2022 Feature Engineering .ipynb#top'>**Section 4. Feature Engineering**</a> \n",
    "* <a href='05- DSC 2022 Modeling .ipynb#top'>**Section 5. Modeling**</a>"
   ]
  },
  {
   "cell_type": "markdown",
   "metadata": {},
   "source": [
    "<a id='time'></a>\n",
    "## 1. Timeline\n",
    "\n",
    "- Wednesday, July 6, 2022 : **Kick-off event + Competition Materials released**\n",
    "- July 6, 2021 - July 23, 2021: runtime of the competition\n",
    "- Friday, July 23, 2021, at <u>5:00pm EST</u>: **Submission Deadline**. Mark the date on your calendar!"
   ]
  },
  {
   "cell_type": "markdown",
   "metadata": {},
   "source": [
    "<a id='part'></a>\n",
    "## 2. Logistics\n",
    "\n",
    "\n",
    "### Rules\n",
    "\n",
    "  1. External data/packages are not allowed.\n",
    "  2. The Makerlab environment that you will be working on is solely for the use of IMG and GIFS crew participating in the 2022 Data Science Competition. Any use outside of the Data Science Competition or by non-participants is strictly prohibited. Please do not download or dispense the data.\n",
    "  3. Due to the capacity, the competition is only open to crews from IMG and GIFS – IMS, please let us know if you are from other department by emailing jiayi_pan@vanguard.com.\n",
    "  5. Your competition submissions must conform to the requirements set forth on the “07 - Data Science Competition-Submission(IMPORTANT).ipynb”, which is one of the tutorial notebooks.The competition period is from July 6 - July 23, any submission after July 23 5:00 PM EST will not be counted. Please confirm with your mentor to make sure you understand the submission rule.\n",
    "  6. We ask that you respect the spirit of the competition and do not cheat. \n",
    "\n",
    "\n",
    "### Participation & Collaboration\n",
    "   1. You must register via the Vcombinator to enter the competition. After installing chrome, simply visit the VCombinator Platform at https://vcombinator.vgimfs.com from a Vanguard machine and register for an account with your Vanguard email. \n",
    "   \n",
    "   2. You have been teamed up with other participants that signed up the same track as you. Meet and greet with your teammates and come up with your collaboration plans. \n",
    "    \n",
    "   3. Follow along the tutorial(jupyter notebooks) in your assigned JupyterHub. Jupyter notebooks consist of a sequence of cells, where each cell is formatted in either Markdown (for writing text) or in a programming language of your choice (for writing code). At this point, you must have already indicated whether you are on the data literacy track or the data modeling track. If you are on the data literacy track, focous on Section 0-3; if you are on the data modeling track, focous on Section 0-2, 4-6.\n",
    "   \n",
    "   4. Each team has been assigned a mentor. You can find your mentor information in the email xxx we sent out. While the competition is live, your mentors will hold office hours for 1 hour every single day. Feel free to contact your mentors with any questions regarding the competition.\n",
    "\n",
    "   4. When you are ready to submit your work, make sure you follow the instructions in Section 7 and your notebook is able to run from the beginning to the end, and confirm with your mentor.\n",
    "\n",
    "   5. Post \"Done with project - yourteamname\" in the competition's Teams channel\n",
    "\n",
    "\n",
    "  \n",
    "### Judging criteria\n",
    "\n",
    "If you are on the **data literacy track**, your submission will be judged subjectively by our judge panel. Our panel of judges are Chris Reardon, Terrence Kim and Lori Lannella.\n",
    "    \n",
    "   1. First Place \n",
    "   2. Second Place \n",
    "   3. Third Place \n",
    "\n",
    "If you are on the **data modeling track**, then the results will be measured using the metric we designed.The smaller value you get, the better your performance.\n",
    "\n",
    "   1. First Place \n",
    "   2. Second Place \n",
    "   3. Third Place \n",
    "\n",
    "    \n",
    "Regardless of your track, we will also give out \n",
    "\n",
    "   1. Best Innovation (The solution with most out-of-the-box-thinking, voted by all IMFS data scientists)\n",
    "   2. Best teamwork (The team with the best teamwork, voted by all mentors)\n",
    "   "
   ]
  },
  {
   "cell_type": "markdown",
   "metadata": {},
   "source": [
    "<a id='communication'></a>\n",
    "## 3. Communication \n",
    " \n",
    "### Teams Channel\n",
    "\n",
    "Please join the <a href='https://teams.microsoft.com/l/team/19%3ada0fe054c2b94985acec00647720cc98%40thread.tacv2/conversations?groupId=ae1eeb0a-3ad4-467e-be69-325ad6a7f720&tenantId=d3a74ac8-efe4-4fe8-b707-b1bf8c6a25bd'>Teams group</a> for all Competitions and Hackathons, and make sure to register for notifications to the <a href='https://teams.microsoft.com/l/channel/19%3aaf0e1d250c814f27bf61eb1cdefdbf6e%40thread.tacv2/2021%2520Data%2520Science%2520Competition?groupId=ae1eeb0a-3ad4-467e-be69-325ad6a7f720&tenantId=d3a74ac8-efe4-4fe8-b707-b1bf8c6a25bd'>**2022 Competition Channel**</a>\n",
    "\n",
    "\n",
    "### IMFS Mentors\n",
    "\n",
    "The IMFS Summer DS interns will be your mentors during this Competition. They will introduce themselves in the Kickoff meeting and you should know in your email who is your team's mentor.\n",
    "\n",
    "* **Sandy Chen** - sandy@vgimfs.com • naiqi_chen@vanguard.com  \n",
    "    *Office Hours*:   \n",
    "    Mondays & Fridays: 1:00 - 2:00 pm EST  \n",
    "    Tuesdays & Thursdays: 9:00 - 10:00 am EST\n",
    "    Wednesdays:  3:00 - 4:00 pm EST  \n",
    "\n",
    "* **Gilberto Garcia Perez** - gilberto@vgimfs.com • gilberto_garciaperez@vanguard.com  \n",
    "    *Office Hours*:   \n",
    "    Everyday, 8-9pm, ET.\n",
    "* **Quinn Hollister** - quinn@vgimfs.com • buell_hollister@vanguard.com  \n",
    "    *Office Hours*:   \n",
    "    Everyday, 11-12am, ET.\n",
    "* **Mattew Wilson Thomas** - blair@vgimfs.com • liang_shi@vanguard.com  \n",
    "    *Office Hours*:   \n",
    "    Mon: 4:00 - 5:00 pm EST\n",
    "    Tue - Fri: 3:30 - 4:30 pm EST\n",
    "\n",
    "\n",
    "    "
   ]
  },
  {
   "cell_type": "markdown",
   "metadata": {},
   "source": [
    "<a id='another_cell'></a>"
   ]
  },
  {
   "cell_type": "markdown",
   "metadata": {},
   "source": [
    "<a id='another_cell'></a>"
   ]
  }
 ],
 "metadata": {
  "interpreter": {
   "hash": "98590ff4fe04c8543246b2a01debd3de3c5ca9b666f43f1fa87d5110c692004c"
  },
  "kernelspec": {
   "display_name": "Python 3 (ipykernel)",
   "language": "python",
   "name": "python3"
  },
  "language_info": {
   "codemirror_mode": {
    "name": "ipython",
    "version": 3
   },
   "file_extension": ".py",
   "mimetype": "text/x-python",
   "name": "python",
   "nbconvert_exporter": "python",
   "pygments_lexer": "ipython3",
   "version": "3.9.7"
  }
 },
 "nbformat": 4,
 "nbformat_minor": 2
}

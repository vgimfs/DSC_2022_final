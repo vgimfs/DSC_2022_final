{
 "cells": [
  {
   "cell_type": "markdown",
   "metadata": {},
   "source": [
    "# Section 7. Submission "
   ]
  },
  {
   "cell_type": "markdown",
   "metadata": {},
   "source": [
    "Hello all! Glad to see you here. You are almost at the finish line. Now that you have read through all the tutorials, it is your turn to create your solution. This notebook covers submission guidelines. To ensure your submission is valid, please confirm with your mentor. "
   ]
  },
  {
   "cell_type": "markdown",
   "metadata": {},
   "source": [
    "* <a href='00 - DSC 2022 Welcome and Logistics.ipynb#top'>**Section 0. Welcome and Logistics**</a> \n",
    "* <a href='01 - DSC 2022 Problem Definition.ipynb#top'>**Section 1. Problem Definition**</a> \n",
    "* <a href='02 - DSC 2022 Exploratory Data Analysis.ipynb#top'>**Section 2. Exploratory Data Analysis**</a> \n",
    "* <a href='03 - DSC 2022 Hypothesis testing.ipynb#top'>**Section 3. Hypothesis Testing**</a> \n",
    "* <a href='04 - DSC 2022 Feature Engineering.ipynb#top'>**Section 4. Feature Engineering**</a> \n",
    "* <a href='05 - DSC 2022 Modeling.ipynb#top'>**Section 5. Modeling**</a>\n",
    "* <a href='06 - DSC 2022 Modeling with Deep Learning.ipynb#top'>**Section 6. Modeling with Deep Learning**</a>\n",
    "* <a href='07 - DSC 2022 Submission.ipynb#top'>**Section 7. Submission**</a>\n",
    "  * [Data Literacy Track](#literacy)\n",
    "  * [Data Modeling Track](#model)"
   ]
  },
  {
   "cell_type": "markdown",
   "metadata": {},
   "source": [
    "<a id='literacy'></a>\n",
    "## Data Literacy Track \n",
    "\n",
    "Your submission should contain **no more than five figures** named team_DL_UK1_fig1.png (for ex) saved in one of your teammates' environment. Figures can contain subplots or facet grids; but keep in mind that there is the tradeoff between as much information as possible and readable to audiences. You can find how to save a figure in notebook <a href='02 - DSC 2022 Exploratory Data Analysis.ipynb#top'>**Section 2. Exploratory Data Analysis**</a>. Your submission will be evaluatednby our judge panel. "
   ]
  },
  {
   "cell_type": "markdown",
   "metadata": {},
   "source": [
    "<a id='model'></a>\n",
    "## Data Modeling Track \n",
    "\n",
    "As explained in earlier notebook, you will be evaluated on data that has been **held out**. To confirm that your prediction algorithm works, you will have to generate predictions on a \"dummy\" holdout dataset that has the same shape as the real hold out data. Once submitted, **your mentors will replace the dummy file by the correct one** and re-run your algorithm on the real holdout dataset to evaluate your prediction.\n",
    "\n",
    "Please make sure that the cells below can run from top to bottom."
   ]
  },
  {
   "cell_type": "code",
   "execution_count": 1,
   "metadata": {},
   "outputs": [],
   "source": [
    "import pandas as pd\n",
    "import numpy as np\n",
    "import pickle as pk\n",
    "from feature_engineering import *\n",
    "from sklearn.compose import ColumnTransformer\n",
    "from sklearn.preprocessing import StandardScaler\n",
    "from sklearn.preprocessing import OneHotEncoder\n",
    "from sklearn.tree import DecisionTreeRegressor"
   ]
  },
  {
   "cell_type": "markdown",
   "metadata": {},
   "source": [
    "### 1. Refit and save a model"
   ]
  },
  {
   "cell_type": "markdown",
   "metadata": {},
   "source": [
    "<img src=\"fig/train_test_split.png\" width=600 height=400 />"
   ]
  },
  {
   "cell_type": "markdown",
   "metadata": {},
   "source": [
    "Recall that in section 5, we performed a train test split on the given data set(the red and yellow part) so that we get an estimation on how our model would perform on unseen data. However, the true unknown data is the hold-out data set. Therefore before you submit your model, refit your model on the entire given data set so that your model gets to see more data. "
   ]
  },
  {
   "cell_type": "code",
   "execution_count": 2,
   "metadata": {},
   "outputs": [],
   "source": [
    "cmg = pd.read_excel('cmg.xlsx', index_col = 'offeringId')\n",
    "X_train, X_test, y_train, y_test = feature_engineering(cmg, test_frac = 0)\n",
    "final_model = DecisionTreeRegressor(random_state=0, max_depth = 10).fit(X_train, y_train)"
   ]
  },
  {
   "cell_type": "code",
   "execution_count": 3,
   "metadata": {},
   "outputs": [],
   "source": [
    "model_name = 'final_model.pkl'\n",
    "with open(model_name,'wb') as file:\n",
    "    pk.dump(final_model, file)\n",
    "\n",
    "with open('final_model.pkl','rb') as file:\n",
    "    saved_model = pk.load(file)"
   ]
  },
  {
   "cell_type": "markdown",
   "metadata": {},
   "source": [
    "### 2. Prepare holdout set for modeling \n",
    "\n",
    "Please replace the cell below with your preprocessing steps."
   ]
  },
  {
   "cell_type": "code",
   "execution_count": 4,
   "metadata": {},
   "outputs": [],
   "source": [
    "# later for evaluation, we will replace the file path with the real file path\n",
    "holdout = pd.read_excel('holdout_dummy.xlsx', index_col = 'offeringId')\n",
    "\n",
    "# fill NA's \n",
    "holdout.fillna(0, inplace = True)\n",
    "\n",
    "# create new feature \n",
    "holdout = change_bank(holdout)\n",
    "\n",
    "# feature selection\n",
    "holdout.drop(columns = ['offeringPricingDate', 'offeringSubSector', 'issuerCusip', 'issuerName', 'underwriters', 'leftLeadFirmId', 'leftLeadFirmName'],\\\n",
    "         inplace = True) \n",
    "\n",
    "# normalize \n",
    "cmg.fillna(0, inplace = True)\n",
    "cmg = change_bank(cmg)\n",
    "cmg.drop(columns = ['offeringPricingDate', 'offeringSubSector', 'issuerCusip', 'issuerName', 'underwriters', 'leftLeadFirmId', 'leftLeadFirmName'],\\\n",
    "         inplace = True) \n",
    "cmg.drop(columns = list(cmg.filter(like = 'post')), inplace = True)\n",
    "numerical_cols = list(holdout.select_dtypes(include=np.number))\n",
    "categorical_cols = list(holdout.select_dtypes(exclude=np.number))\n",
    "numerical_transformer = StandardScaler()\n",
    "categorical_transformer = OneHotEncoder(drop = 'if_binary')\n",
    "preprocessor = ColumnTransformer(\n",
    "        transformers=[\n",
    "        ('num', numerical_transformer, numerical_cols),\n",
    "        ('cat', categorical_transformer, categorical_cols)])\n",
    "preprocessor.fit(cmg)\n",
    "holdout = preprocessor.transform(holdout)"
   ]
  },
  {
   "cell_type": "markdown",
   "metadata": {},
   "source": [
    "### 3. Save prediction"
   ]
  },
  {
   "cell_type": "code",
   "execution_count": 5,
   "metadata": {},
   "outputs": [],
   "source": [
    "your_prediction = saved_model.predict(holdout)"
   ]
  },
  {
   "cell_type": "markdown",
   "metadata": {},
   "source": [
    "**Important: The cell below checks whether your output is of the right dimension. Please don't make any modifications to the cell!**"
   ]
  },
  {
   "cell_type": "code",
   "execution_count": 6,
   "metadata": {},
   "outputs": [
    {
     "name": "stdout",
     "output_type": "stream",
     "text": [
      "True\n"
     ]
    }
   ],
   "source": [
    "print(your_prediction.shape == (holdout.shape[0], 5))"
   ]
  },
  {
   "cell_type": "code",
   "execution_count": 7,
   "metadata": {},
   "outputs": [],
   "source": [
    "# replace XX by your team ID!\n",
    "YOUR_TEAM_FILE = \"team_XX_pred.txt\"\n",
    "np.savetxt(YOUR_TEAM_FILE, your_prediction, fmt='%s')"
   ]
  },
  {
   "cell_type": "markdown",
   "metadata": {},
   "source": [
    "You have reached the end of this tutorial series."
   ]
  },
  {
   "cell_type": "markdown",
   "metadata": {},
   "source": [
    "# Competition takeaways\n",
    "We hope that you have learned, and are going to be able to re explore:\n",
    "- How to formalize a problem in a data science framework \n",
    "- That running a notebook is not so hard to do and that it is a good tool to explore data and run code\n",
    "- That many basic machine learning models are easily available and open source\n",
    "In the future, when you come across interesting data sources, you can think of ways to quickly test out predictive power while using these resources!"
   ]
  },
  {
   "cell_type": "code",
   "execution_count": null,
   "metadata": {},
   "outputs": [],
   "source": []
  },
  {
   "cell_type": "code",
   "execution_count": null,
   "metadata": {},
   "outputs": [],
   "source": []
  }
 ],
 "metadata": {
  "interpreter": {
   "hash": "98590ff4fe04c8543246b2a01debd3de3c5ca9b666f43f1fa87d5110c692004c"
  },
  "kernelspec": {
   "display_name": "Python 3 (ipykernel)",
   "language": "python",
   "name": "python3"
  },
  "language_info": {
   "codemirror_mode": {
    "name": "ipython",
    "version": 3
   },
   "file_extension": ".py",
   "mimetype": "text/x-python",
   "name": "python",
   "nbconvert_exporter": "python",
   "pygments_lexer": "ipython3",
   "version": "3.9.7"
  }
 },
 "nbformat": 4,
 "nbformat_minor": 2
}

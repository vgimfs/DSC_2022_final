{
 "cells": [
  {
   "cell_type": "markdown",
   "metadata": {},
   "source": [
    "# Section 0. Welcome and Logistics "
   ]
  },
  {
   "cell_type": "markdown",
   "metadata": {},
   "source": [
    "Hello, welcome to the 6th IMG Data Science Competition held by IMFS! By holding this competition, We hope to encourage crews to get their hands on data science and cultivate new ways of thinking about problems. This year, we desinged two tracks: the **data literacy track** and the **data modeling** track to accomodate participants with various experience level in data science. Regardless of the level at which you start with, we will offer you a great learning experience by guiding you through tackling an exciting business problem step by step. The adventure starts here..."
   ]
  },
  {
   "cell_type": "markdown",
   "metadata": {},
   "source": [
    "## Here is the outline of the contents that make up this competition:\n",
    "\n",
    "All the competition material will be organized in jupyter notebooks. Here's a sneak peek of what we will go through...\n",
    "\n",
    "\n",
    "* <a href='00 - DSC 2022 Welcome and Logistics.ipynb#top'>**Section 0. Welcome and Logistics**</a> \n",
    "* <a href='01 - DSC 2022 Problem Definition.ipynb#top'>**Section 1. Problem Definition**</a> \n",
    "* <a href='02 - DSC 2022 Exploratory Data Analysis.ipynb#top'>**Section 2. Exploratory Data Analysis**</a> \n",
    "* <a href='03 - DSC 2022 Hypothesis testing.ipynb#top'>**Section 3. Hypothesis Testing**</a> \n",
    "* <a href='04 - DSC 2022 Feature Engineering.ipynb#top'>**Section 4. Feature Engineering**</a> \n",
    "* <a href='05 - DSC 2022 Modeling.ipynb#top'>**Section 5. Modeling**</a>\n",
    "* <a href='06 - DSC 2022 Modeling with Deep Learning.ipynb#top'>**Section 6. Modeling with Deep Learning**</a>\n",
    "* <a href='07 - DSC 2022 Submission.ipynb#top'>**Section 7. Submission**</a>"
   ]
  },
  {
   "cell_type": "markdown",
   "metadata": {},
   "source": [
    "<a id='time'></a>\n",
    "## 1. Timeline\n",
    "\n",
    "- Wednesday, July 6, 2022 : **Kick-off event** + Competition Materials released\n",
    "- July 6, 2022 - July 22, 2022: Runtime of the competition\n",
    "- Friday, July 22, 2022, at <u>5:00pm EST</u>: **Submission Deadline**. Mark the date on your calendar!\n",
    "- Monday, August 1, 2022 : **Closing ceremony** + Announcement of winning teams"
   ]
  },
  {
   "cell_type": "markdown",
   "metadata": {},
   "source": [
    "<a id='part'></a>\n",
    "## 2. Logistics\n",
    "\n",
    "\n",
    "### Rules\n",
    "\n",
    "  1. External data/packages are not allowed.\n",
    "  2. The Makerlab environment that you will be working on is solely for the use of IMG and GIFS crew participating in the 2022 Data Science Competition. Any use outside of the Data Science Competition or by non-participants is strictly prohibited. Please do not download or dispense any material from Makerlab.\n",
    "  3. Due to the capacity, the competition is only open to crews from IMG and GIFS – IMS, please let us know if you are from other department by emailing jiayi_pan@vanguard.com.\n",
    "  5. Your competition submissions must conform to the requirements set forth on the “07 - DSC 2022 Submission.ipynb”, which is one of the tutorial notebooks.The competition period is from July 6 - July 22, any submission after July 22 5:00 PM ET will not be counted. Please confirm with your mentor to make sure you understand the submission rule.\n",
    "  6. We ask that you respect the spirit of the competition and do not cheat. \n",
    "  \n",
    "\n",
    "### Judging criteria & Rewards\n",
    "\n",
    "* If you are on the **data literacy track**, your submission will be judged subjectively by our judge panel. Our panel of judges are Chris Reardon, Terrence Kim and Lori Iannella.\n",
    "    \n",
    "   1. First Place \n",
    "   2. Second Place \n",
    "   3. Third Place \n",
    "\n",
    "* If you are on the **data modeling track**, your model will be evaluated on the holdout data set. You can find more details in <a href='05 - DSC 2022 Modeling.ipynb#top'>**Section 5**</a>. \n",
    "\n",
    "   1. Best Model Performance (The solution with the smallest MAE on the holdout data set)\n",
    "   2. Best Model Explainability (The solution that best answers business hypotheses, voted by all IMFS data scientists)\n",
    "\n",
    "    \n",
    "* Regardless of your track, we will also give out \n",
    "\n",
    "   1. Best Innovation (The solution with most out-of-the-box-thinking, voted by all IMFS data scientists)\n",
    "   2. Best Teamwork (The team with the best teamwork, voted by all mentors)\n",
    "   \n",
    "  \n",
    "\n",
    "### Participation \n",
    "   1. You must register via the Vcombinator to enter the competition. After installing chrome, simply visit the VCombinator Platform at https://vcombinator.vgimfs.com from a Vanguard machine and register for an account with your Vanguard email (you may already have one if you have participated in a past competition or worked with IMFS). The account must use your **vanguard email**.\n",
    "   \n",
    "   2. Sign in with the previous credentials on https://lab.vgimfs.com/.\n",
    "   \n",
    "   3. Open the link xxx. Once opened, the materials will be automatically populated into your MakerLab environment. And you would not need this link again. Next time you access your MakerLab, the materials would be there. \n",
    "    \n",
    "   4. Follow along the tutorials(jupyter notebooks) in your assigned JupyterHub. At this point, you must have already indicated whether you are on the data literacy track or the data modeling track. If you are on the data literacy track, focous on Section 0-3; if you are on the data modeling track, focous on Section 0-2, 4-6.\n",
    "   \n",
    "   5. When you are ready to submit your work, make sure you follow the instructions in <a href='07 - DSC 2022 Submission.ipynb#top'>**Section 7. Submission**</a> and your notebook is able to run from the beginning to the end, and confirm with your mentor.\n",
    "\n",
    "   6. Post \"Done with project - yourteamname\" in the competition's Teams channel\n",
    "   \n",
    "   \n",
    "   \n",
    "### Collaboration\n",
    "\n",
    "   1. Each of you is teamed up into groups of size 4-5. We created a teams channel for each team where your mentor is included as the owner. Your team ID is your channel name.\n",
    "   2. This year's Makerlab enables a new collaboration feautre. Each person can generate a sharable link through their environment. Your teammates woule be able to access your environment through the link. However, the environment does not support concurrent workflow (two people working on a single notebook at the same time might cause errors). A recommended approach for collaboration is for all teammates to work in one person's environment by creating their own copy of notebooks that they wish to work on. \n",
    "   3. You could find a more detailed introduction on how collaboration on makerlab works from the recording of our kickoff webinar. If you have any questions, reach out to your mentor. "
   ]
  },
  {
   "cell_type": "markdown",
   "metadata": {},
   "source": [
    "<a id='communication'></a>\n",
    "## 3. Communication \n",
    " \n",
    "### Teams Channel\n",
    "\n",
    "Please join the <a href='https://teams.microsoft.com/l/team/19%3awMr8u7d8qCdEGu5Q89H47wf6xo6EGJvIvpG2zLGA_OE1%40thread.tacv2/conversations?groupId=a8879a7f-9537-4e6e-a62e-236e43a8300c&tenantId=d3a74ac8-efe4-4fe8-b707-b1bf8c6a25bd'>Teams group</a> and make sure to register for notifications to the <a href='https://teams.microsoft.com/l/channel/19%3awMr8u7d8qCdEGu5Q89H47wf6xo6EGJvIvpG2zLGA_OE1%40thread.tacv2/General?groupId=a8879a7f-9537-4e6e-a62e-236e43a8300c&tenantId=d3a74ac8-efe4-4fe8-b707-b1bf8c6a25bd'>**2022 Competition Channel**</a>.\n",
    "\n",
    "\n",
    "### IMFS Mentors\n",
    "\n",
    "The IMFS Summer DS interns will be your mentors during this Competition. \n",
    "\n",
    "* **Sandy Chen** - sandy@vgimfs.com • naiqi_chen@vanguard.com  \n",
    "    *Office Hours*:\n",
    "    Monday, Wednesday & Friday: 3:30pm-4:30pm ET  \n",
    "    Tuesday & Thurs: 10-11am ET  \n",
    "* **Gilberto Garcia Perez** - gilberto@vgimfs.com • gilberto_garciaperez@vanguard.com  \n",
    "    *Office Hours*:   \n",
    "    Mon & Tue: 8-9 pm ET (GMT-4)  \n",
    "    Wed, Thu & Fri: 9-10 am ET (GMT-4)\n",
    "* **Quinn Hollister** - quinn@vgimfs.com • buell_hollister@vanguard.com  \n",
    "    *Office Hours*:   \n",
    "    Everyday, 3:30-4:30 pm ET.\n",
    "* **Matthew Thomas** - matthew@vgimfs.com • matthew_thomas2@vanguard.com  \n",
    "    *Office Hours*:   \n",
    "    Everyday, 1-2pm ET.\n",
    "    "
   ]
  },
  {
   "cell_type": "markdown",
   "metadata": {},
   "source": [
    "<a id='another_cell'></a>"
   ]
  },
  {
   "cell_type": "markdown",
   "metadata": {},
   "source": [
    "<a id='another_cell'></a>"
   ]
  }
 ],
 "metadata": {
  "interpreter": {
   "hash": "98590ff4fe04c8543246b2a01debd3de3c5ca9b666f43f1fa87d5110c692004c"
  },
  "kernelspec": {
   "display_name": "Python 3 (ipykernel)",
   "language": "python",
   "name": "python3"
  },
  "language_info": {
   "codemirror_mode": {
    "name": "ipython",
    "version": 3
   },
   "file_extension": ".py",
   "mimetype": "text/x-python",
   "name": "python",
   "nbconvert_exporter": "python",
   "pygments_lexer": "ipython3",
   "version": "3.9.7"
  }
 },
 "nbformat": 4,
 "nbformat_minor": 2
}

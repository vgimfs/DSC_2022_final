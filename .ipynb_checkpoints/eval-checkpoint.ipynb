{
 "cells": [
  {
   "cell_type": "code",
   "execution_count": null,
   "id": "e4f9bb24",
   "metadata": {},
   "outputs": [],
   "source": [
    "def eval(true, pred):\n",
    "    \n",
    "    # change format of input if necessary \n",
    "    if isinstance(true, pd.DataFrame) or isinstance(true, list): \n",
    "        true = np.array(true)\n",
    "    if isinstance(pred, pd.DataFrame) or isinstance(pred, list): \n",
    "        pred = np.array(pred)\n",
    "        \n",
    "    # mae \n",
    "    mae = mean_absolute_error(true, pred)\n",
    "    \n",
    "    # direction\n",
    "    n = len(true)\n",
    "    true, pred = (true >= 0), (pred >= 0)\n",
    "    score = 0 \n",
    "    for i in range(n):\n",
    "        score += accuracy_score(true[i], pred[i])\n",
    "    acc = score/n\n",
    "    \n",
    "    return {'MAE':mae, 'ACC': acc}"
   ]
  }
 ],
 "metadata": {
  "kernelspec": {
   "display_name": "Python 3 (ipykernel)",
   "language": "python",
   "name": "python3"
  },
  "language_info": {
   "codemirror_mode": {
    "name": "ipython",
    "version": 3
   },
   "file_extension": ".py",
   "mimetype": "text/x-python",
   "name": "python",
   "nbconvert_exporter": "python",
   "pygments_lexer": "ipython3",
   "version": "3.9.7"
  }
 },
 "nbformat": 4,
 "nbformat_minor": 5
}
